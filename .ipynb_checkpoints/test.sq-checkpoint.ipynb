{
 "cells": [
  {
   "cell_type": "code",
   "execution_count": null,
   "source": [
    "\"aaa\""
   ],
   "outputs": [],
   "metadata": {}
  },
  {
   "cell_type": "code",
   "execution_count": null,
   "source": [],
   "outputs": [],
   "metadata": {}
  }
 ],
 "metadata": {
  "orig_nbformat": 4,
  "language_info": {
   "name": "python",
   "version": "3.8.5"
  },
  "kernelspec": {
   "name": "python3",
   "display_name": "Python 3.8.5 64-bit ('sql_make': venv)"
  },
  "interpreter": {
   "hash": "b1353949a63e16d8e2f818e1a95c642bd03a4155806fd89bfcce25186b204cd3"
  }
 },
 "nbformat": 4,
 "nbformat_minor": 2
}